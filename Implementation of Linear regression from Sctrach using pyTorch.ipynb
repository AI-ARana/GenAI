{
 "cells": [
  {
   "cell_type": "code",
   "execution_count": 5,
   "id": "1d3bb396",
   "metadata": {},
   "outputs": [],
   "source": [
    "import torch"
   ]
  },
  {
   "cell_type": "code",
   "execution_count": 1,
   "id": "6177bcca",
   "metadata": {},
   "outputs": [],
   "source": [
    "import numpy as np"
   ]
  },
  {
   "cell_type": "markdown",
   "id": "0566949b",
   "metadata": {},
   "source": [
    "Training Data"
   ]
  },
  {
   "cell_type": "code",
   "execution_count": 2,
   "id": "7bb94163",
   "metadata": {},
   "outputs": [],
   "source": [
    "# Input ( Temperature, Rainfall, Humidity)\n",
    "inputs=np.array([[73,67,43],[91,88,64],[87,134,58],[102,43,37],[69,96,70]], dtype='float32')"
   ]
  },
  {
   "cell_type": "code",
   "execution_count": 3,
   "id": "462ab89d",
   "metadata": {},
   "outputs": [],
   "source": [
    "# Targets (Apples, Oranges)\n",
    "targets=np.array([[56,70],[81,101],[119,133],[22,37],[103,119]], dtype='float32')"
   ]
  },
  {
   "cell_type": "code",
   "execution_count": 6,
   "id": "7c9fd9a0",
   "metadata": {},
   "outputs": [
    {
     "name": "stdout",
     "output_type": "stream",
     "text": [
      "tensor([[ 73.,  67.,  43.],\n",
      "        [ 91.,  88.,  64.],\n",
      "        [ 87., 134.,  58.],\n",
      "        [102.,  43.,  37.],\n",
      "        [ 69.,  96.,  70.]])\n",
      "tensor([[ 56.,  70.],\n",
      "        [ 81., 101.],\n",
      "        [119., 133.],\n",
      "        [ 22.,  37.],\n",
      "        [103., 119.]])\n"
     ]
    }
   ],
   "source": [
    "# Convert inputs and targets to tensors\n",
    "inputs=torch.from_numpy(inputs)\n",
    "targets=torch.from_numpy(targets)\n",
    "print(inputs)\n",
    "print(targets)"
   ]
  },
  {
   "cell_type": "markdown",
   "id": "2148f487",
   "metadata": {},
   "source": [
    "Weight and baises"
   ]
  },
  {
   "cell_type": "code",
   "execution_count": 8,
   "id": "7ae4afd3",
   "metadata": {},
   "outputs": [
    {
     "name": "stdout",
     "output_type": "stream",
     "text": [
      "tensor([[ 0.9448, -1.6768,  1.0852],\n",
      "        [ 1.0040, -1.1812, -0.3691]], requires_grad=True) \n",
      " tensor([0.5312, 1.2475], requires_grad=True)\n"
     ]
    }
   ],
   "source": [
    "w=torch.randn(2,3, requires_grad=True)\n",
    "b=torch.randn(2, requires_grad=True)\n",
    "print(w,'\\n',b)"
   ]
  },
  {
   "cell_type": "code",
   "execution_count": 9,
   "id": "19d0635a",
   "metadata": {},
   "outputs": [],
   "source": [
    "def model(x):\n",
    "    return x @ w.t()+b"
   ]
  },
  {
   "cell_type": "markdown",
   "id": "32317af9",
   "metadata": {},
   "source": [
    "@ represent matreix multiplication in PyTorch and .t method returns the transpose of a tensor."
   ]
  },
  {
   "cell_type": "code",
   "execution_count": 10,
   "id": "22cad076",
   "metadata": {},
   "outputs": [
    {
     "data": {
      "text/plain": [
       "tensor([[  3.8205, -20.4737],\n",
       "        [  8.4035, -34.9590],\n",
       "        [-79.0211, -91.0966],\n",
       "        [ 64.9530,  39.2075],\n",
       "        [-19.2860, -68.7123]], grad_fn=<AddBackward0>)"
      ]
     },
     "execution_count": 10,
     "metadata": {},
     "output_type": "execute_result"
    }
   ],
   "source": [
    "preds =model(inputs)\n",
    "preds"
   ]
  },
  {
   "cell_type": "code",
   "execution_count": 11,
   "id": "3da64b27",
   "metadata": {},
   "outputs": [
    {
     "name": "stdout",
     "output_type": "stream",
     "text": [
      "tensor([[ 56.,  70.],\n",
      "        [ 81., 101.],\n",
      "        [119., 133.],\n",
      "        [ 22.,  37.],\n",
      "        [103., 119.]])\n"
     ]
    }
   ],
   "source": [
    "# compare preds with targets\n",
    "print(targets)"
   ]
  },
  {
   "cell_type": "markdown",
   "id": "d1035121",
   "metadata": {},
   "source": [
    "Loss Function"
   ]
  },
  {
   "cell_type": "code",
   "execution_count": 12,
   "id": "739758c1",
   "metadata": {},
   "outputs": [],
   "source": [
    "# Mean Square Error Loss\n",
    "def msel(t1,t2):\n",
    "    dif=t1-t2\n",
    "    return torch.sum(dif*dif)/dif.numel()"
   ]
  },
  {
   "cell_type": "code",
   "execution_count": 13,
   "id": "b4f2b349",
   "metadata": {},
   "outputs": [
    {
     "name": "stdout",
     "output_type": "stream",
     "text": [
      "tensor(17613.4531, grad_fn=<DivBackward0>)\n"
     ]
    }
   ],
   "source": [
    "loss=msel(preds,targets)\n",
    "print(loss)"
   ]
  },
  {
   "cell_type": "markdown",
   "id": "3b8e0149",
   "metadata": {},
   "source": [
    "Compute Gradients"
   ]
  },
  {
   "cell_type": "code",
   "execution_count": null,
   "id": "e60d53ef",
   "metadata": {},
   "outputs": [],
   "source": [
    "loss.backward()\n",
    "# Gradients for weights\n",
    "print(w)\n",
    "print(w.grad)"
   ]
  },
  {
   "cell_type": "markdown",
   "id": "5f193cba",
   "metadata": {},
   "source": [
    "Adjust weights and biases to reduce the loss"
   ]
  },
  {
   "cell_type": "code",
   "execution_count": 15,
   "id": "9c62c2d8",
   "metadata": {},
   "outputs": [
    {
     "data": {
      "text/plain": [
       "tensor([[ -6339.9487,  -9262.3643,  -5069.1753],\n",
       "        [-10240.0469, -13196.1055,  -7729.5059]])"
      ]
     },
     "execution_count": 15,
     "metadata": {},
     "output_type": "execute_result"
    }
   ],
   "source": [
    "w\n",
    "w.grad"
   ]
  },
  {
   "cell_type": "code",
   "execution_count": 16,
   "id": "5f0ea06e",
   "metadata": {},
   "outputs": [],
   "source": [
    "with torch.no_grad():\n",
    "    w-=w.grad*1e-5\n",
    "    b-=b.grad*1e-5"
   ]
  },
  {
   "cell_type": "code",
   "execution_count": 17,
   "id": "be208e28",
   "metadata": {},
   "outputs": [
    {
     "name": "stdout",
     "output_type": "stream",
     "text": [
      "tensor(17613.4531, grad_fn=<DivBackward0>)\n"
     ]
    }
   ],
   "source": [
    "# Verify Loss is Lower\n",
    "loss=msel(preds, targets)\n",
    "print(loss)"
   ]
  },
  {
   "cell_type": "code",
   "execution_count": 18,
   "id": "f4a334c5",
   "metadata": {},
   "outputs": [
    {
     "name": "stdout",
     "output_type": "stream",
     "text": [
      "tensor([[0., 0., 0.],\n",
      "        [0., 0., 0.]]) \n",
      " tensor([0., 0.])\n"
     ]
    }
   ],
   "source": [
    "w.grad.zero_()\n",
    "b.grad.zero_()\n",
    "print(w.grad, '\\n', b.grad)"
   ]
  },
  {
   "cell_type": "markdown",
   "id": "e4495bcf",
   "metadata": {},
   "source": [
    "Train the Model using Gradient Descent"
   ]
  },
  {
   "cell_type": "code",
   "execution_count": 19,
   "id": "55175059",
   "metadata": {},
   "outputs": [
    {
     "name": "stdout",
     "output_type": "stream",
     "text": [
      "tensor([[ 16.8350,  -0.8321],\n",
      "        [ 25.5689,  -9.0798],\n",
      "        [-58.1529, -60.0206],\n",
      "        [ 77.2790,  58.1879],\n",
      "        [ -2.4703, -43.5665]], grad_fn=<AddBackward0>)\n"
     ]
    }
   ],
   "source": [
    "# Generate Predictions\n",
    "preds=model(inputs)\n",
    "print(preds)"
   ]
  },
  {
   "cell_type": "code",
   "execution_count": 20,
   "id": "a202f7c7",
   "metadata": {},
   "outputs": [
    {
     "name": "stdout",
     "output_type": "stream",
     "text": [
      "tensor(13143.7891, grad_fn=<DivBackward0>)\n"
     ]
    }
   ],
   "source": [
    "# Calculate the loss\n",
    "loss= msel(preds, targets)\n",
    "print(loss)"
   ]
  },
  {
   "cell_type": "code",
   "execution_count": 21,
   "id": "d1040038",
   "metadata": {},
   "outputs": [
    {
     "name": "stdout",
     "output_type": "stream",
     "text": [
      "tensor([[ -4990.9150,  -7797.7266,  -4168.8311],\n",
      "        [ -8207.3457, -10998.5684,  -6376.3579]])\n",
      "tensor([ -64.3881, -103.0622])\n"
     ]
    }
   ],
   "source": [
    "# Compute Gradients\n",
    "loss.backward()\n",
    "print(w.grad)\n",
    "print(b.grad)"
   ]
  },
  {
   "cell_type": "code",
   "execution_count": 23,
   "id": "09db588f",
   "metadata": {},
   "outputs": [],
   "source": [
    "# Adjust the weights & Reset Gradients\n",
    "with torch.no_grad():\n",
    "    w-=w.grad*1e-5\n",
    "    b-=b.grad*1e-5\n",
    "    w.grad.zero_()\n",
    "    b.grad.zero_()"
   ]
  },
  {
   "cell_type": "code",
   "execution_count": 24,
   "id": "b0e003bd",
   "metadata": {},
   "outputs": [
    {
     "name": "stdout",
     "output_type": "stream",
     "text": [
      "tensor([[ 1.0581, -1.5062,  1.1776],\n",
      "        [ 1.1885, -0.9393, -0.2281]], requires_grad=True)\n",
      "tensor([0.5333, 1.2508], requires_grad=True)\n"
     ]
    }
   ],
   "source": [
    "print(w)\n",
    "print(b)"
   ]
  },
  {
   "cell_type": "code",
   "execution_count": 25,
   "id": "6115d6db",
   "metadata": {},
   "outputs": [
    {
     "name": "stdout",
     "output_type": "stream",
     "text": [
      "tensor(10115.7803, grad_fn=<DivBackward0>)\n"
     ]
    }
   ],
   "source": [
    "# Calculate the Loss\n",
    "preds=model(inputs)\n",
    "loss=msel(preds, targets)\n",
    "print(loss)"
   ]
  },
  {
   "cell_type": "markdown",
   "id": "104d427c",
   "metadata": {},
   "source": [
    "Train for multiple epochs"
   ]
  },
  {
   "cell_type": "code",
   "execution_count": 26,
   "id": "a04818da",
   "metadata": {},
   "outputs": [],
   "source": [
    "# Train for 100 epochs\n",
    "for i in range(100):\n",
    "    preds=model(inputs)\n",
    "    loss=msel(preds, targets)\n",
    "    loss.backward()\n",
    "    with torch.no_grad():\n",
    "        w-=w.grad*1e-5\n",
    "        b-=b.grad*1e-5\n",
    "        w.grad.zero_()\n",
    "        b.grad.zero_()"
   ]
  },
  {
   "cell_type": "code",
   "execution_count": 27,
   "id": "448ab1ad",
   "metadata": {},
   "outputs": [
    {
     "name": "stdout",
     "output_type": "stream",
     "text": [
      "tensor(1150.2048, grad_fn=<DivBackward0>)\n"
     ]
    }
   ],
   "source": [
    "# Claculate the Loss\n",
    "preds=model(inputs)\n",
    "loss=msel(preds, targets)\n",
    "print(loss)"
   ]
  },
  {
   "cell_type": "code",
   "execution_count": 28,
   "id": "93b054e1",
   "metadata": {},
   "outputs": [
    {
     "data": {
      "text/plain": [
       "tensor([[ 67.3898,  80.8668],\n",
       "        [ 96.5920, 103.5685],\n",
       "        [ 69.5409, 109.3976],\n",
       "        [ 80.7466,  96.7357],\n",
       "        [ 92.2320,  89.5760]], grad_fn=<AddBackward0>)"
      ]
     },
     "execution_count": 28,
     "metadata": {},
     "output_type": "execute_result"
    }
   ],
   "source": [
    "# predictions\n",
    "preds"
   ]
  },
  {
   "cell_type": "code",
   "execution_count": 29,
   "id": "e1bbdd4a",
   "metadata": {},
   "outputs": [
    {
     "data": {
      "text/plain": [
       "tensor([[ 56.,  70.],\n",
       "        [ 81., 101.],\n",
       "        [119., 133.],\n",
       "        [ 22.,  37.],\n",
       "        [103., 119.]])"
      ]
     },
     "execution_count": 29,
     "metadata": {},
     "output_type": "execute_result"
    }
   ],
   "source": [
    "# Targets\n",
    "targets"
   ]
  },
  {
   "cell_type": "markdown",
   "id": "45c07b3a",
   "metadata": {},
   "source": [
    "Linear Regrerssion using PyTorch built-ins"
   ]
  },
  {
   "cell_type": "code",
   "execution_count": 30,
   "id": "9f299d94",
   "metadata": {},
   "outputs": [],
   "source": [
    "from torch import nn"
   ]
  },
  {
   "cell_type": "code",
   "execution_count": 32,
   "id": "6696022d",
   "metadata": {},
   "outputs": [],
   "source": [
    "#Input (temp, rainfall, humidity)\n",
    "inputs = np.array([[73, 67, 43],\n",
    "[91, 88, 64],\n",
    "[87, 134, 58],\n",
    "[102, 43, 37],\n",
    "[69, 96, 70],\n",
    "[74, 66, 43],\n",
    "[91, 87, 65],\n",
    "[88, 134, 59],\n",
    "[101, 44, 37],\n",
    "[68, 96, 71],\n",
    "[73, 66, 44],\n",
    "[92, 87, 64],\n",
    "[87, 135, 57],\n",
    "[103, 43, 36],\n",
    "[68, 97, 70]],\n",
    "dtype='float32')\n",
    "# Targets (apples, oranges)\n",
    "targets = np.array([[56, 70],\n",
    "[81, 101],\n",
    "[119, 133],\n",
    "[22, 37],\n",
    "[103, 119],\n",
    "[57, 69],\n",
    "[80, 102],\n",
    "[118, 132],\n",
    "[21, 38],\n",
    "[104, 118],\n",
    "[57, 69],\n",
    "[82, 100],\n",
    "[118, 134],\n",
    "[20, 38],\n",
    "[102, 120]],\n",
    "dtype='float32')\n",
    "inputs = torch.from_numpy(inputs)\n",
    "targets = torch.from_numpy(targets)"
   ]
  },
  {
   "cell_type": "markdown",
   "id": "417b598d",
   "metadata": {},
   "source": [
    "Dataset and DataLoader"
   ]
  },
  {
   "cell_type": "code",
   "execution_count": 33,
   "id": "b9412838",
   "metadata": {},
   "outputs": [],
   "source": [
    "from torch.utils.data import TensorDataset"
   ]
  },
  {
   "cell_type": "code",
   "execution_count": 34,
   "id": "019944dc",
   "metadata": {},
   "outputs": [],
   "source": [
    "train_ds=TensorDataset(inputs, targets)"
   ]
  },
  {
   "cell_type": "code",
   "execution_count": 35,
   "id": "c4995325",
   "metadata": {},
   "outputs": [
    {
     "data": {
      "text/plain": [
       "(tensor([[ 73.,  67.,  43.],\n",
       "         [ 91.,  88.,  64.],\n",
       "         [ 87., 134.,  58.]]),\n",
       " tensor([[ 56.,  70.],\n",
       "         [ 81., 101.],\n",
       "         [119., 133.]]))"
      ]
     },
     "execution_count": 35,
     "metadata": {},
     "output_type": "execute_result"
    }
   ],
   "source": [
    "train_ds[0:3]"
   ]
  },
  {
   "cell_type": "code",
   "execution_count": 36,
   "id": "e6239f97",
   "metadata": {},
   "outputs": [],
   "source": [
    "from torch.utils.data import DataLoader"
   ]
  },
  {
   "cell_type": "code",
   "execution_count": 37,
   "id": "4e31c232",
   "metadata": {},
   "outputs": [],
   "source": [
    "# Define a DataLoader\n",
    "b_size=5\n",
    "train_dl=DataLoader(train_ds, b_size,shuffle=True)"
   ]
  },
  {
   "cell_type": "code",
   "execution_count": 38,
   "id": "c939c646",
   "metadata": {},
   "outputs": [
    {
     "name": "stdout",
     "output_type": "stream",
     "text": [
      "tensor([[ 88., 134.,  59.],\n",
      "        [ 91.,  88.,  64.],\n",
      "        [ 74.,  66.,  43.],\n",
      "        [ 68.,  97.,  70.],\n",
      "        [ 73.,  66.,  44.]])\n",
      "tensor([[118., 132.],\n",
      "        [ 81., 101.],\n",
      "        [ 57.,  69.],\n",
      "        [102., 120.],\n",
      "        [ 57.,  69.]])\n"
     ]
    }
   ],
   "source": [
    "for x, y in train_dl:\n",
    "    print(x)\n",
    "    print(y)\n",
    "    break"
   ]
  },
  {
   "cell_type": "markdown",
   "id": "edc705ee",
   "metadata": {},
   "source": [
    "Neural Network (nn.Linear)"
   ]
  },
  {
   "cell_type": "code",
   "execution_count": 39,
   "id": "e35748a8",
   "metadata": {},
   "outputs": [
    {
     "name": "stdout",
     "output_type": "stream",
     "text": [
      "Parameter containing:\n",
      "tensor([[ 0.2505,  0.1529, -0.2450],\n",
      "        [ 0.3334,  0.2828,  0.1070]], requires_grad=True) \n",
      " Parameter containing:\n",
      "tensor([-0.2891,  0.0671], requires_grad=True)\n"
     ]
    }
   ],
   "source": [
    "model=nn.Linear(3,2)\n",
    "print(model.weight,'\\n',model.bias)"
   ]
  },
  {
   "cell_type": "code",
   "execution_count": 40,
   "id": "26e51bb0",
   "metadata": {},
   "outputs": [
    {
     "data": {
      "text/plain": [
       "[Parameter containing:\n",
       " tensor([[ 0.2505,  0.1529, -0.2450],\n",
       "         [ 0.3334,  0.2828,  0.1070]], requires_grad=True),\n",
       " Parameter containing:\n",
       " tensor([-0.2891,  0.0671], requires_grad=True)]"
      ]
     },
     "execution_count": 40,
     "metadata": {},
     "output_type": "execute_result"
    }
   ],
   "source": [
    "# Parameters\n",
    "list(model.parameters())"
   ]
  },
  {
   "cell_type": "code",
   "execution_count": 41,
   "id": "88370437",
   "metadata": {},
   "outputs": [
    {
     "data": {
      "text/plain": [
       "tensor([[17.7083, 47.9541],\n",
       "        [20.2838, 62.1410],\n",
       "        [27.7834, 73.1735],\n",
       "        [22.7749, 50.1945],\n",
       "        [14.5251, 57.7099],\n",
       "        [17.8060, 48.0047],\n",
       "        [19.8860, 61.9652],\n",
       "        [27.7890, 73.6139],\n",
       "        [22.6772, 50.1439],\n",
       "        [14.0296, 57.4835],\n",
       "        [17.3105, 47.7783],\n",
       "        [20.3815, 62.1916],\n",
       "        [28.1813, 73.3493],\n",
       "        [23.2704, 50.4210],\n",
       "        [14.4275, 57.6593]], grad_fn=<AddmmBackward0>)"
      ]
     },
     "execution_count": 41,
     "metadata": {},
     "output_type": "execute_result"
    }
   ],
   "source": [
    "# Generate Predictions\n",
    "preds=model(inputs)\n",
    "preds"
   ]
  },
  {
   "cell_type": "markdown",
   "id": "ff259a4a",
   "metadata": {},
   "source": [
    "Loss Function"
   ]
  },
  {
   "cell_type": "code",
   "execution_count": 42,
   "id": "23eff6d6",
   "metadata": {},
   "outputs": [],
   "source": [
    "# importing nn.Functional\n",
    "import torch.nn.functional as f"
   ]
  },
  {
   "cell_type": "code",
   "execution_count": 43,
   "id": "dd355498",
   "metadata": {},
   "outputs": [
    {
     "data": {
      "text/plain": [
       "tensor(3072.4385, grad_fn=<MseLossBackward0>)"
      ]
     },
     "execution_count": 43,
     "metadata": {},
     "output_type": "execute_result"
    }
   ],
   "source": [
    "# Define Loss Function\n",
    "loss_fn=f.mse_loss\n",
    "loss=loss_fn(model(inputs),targets)\n",
    "loss"
   ]
  },
  {
   "cell_type": "markdown",
   "id": "67d400fb",
   "metadata": {},
   "source": [
    "Optimizer ( optim.SGD) SGD: Stochastic Gradient Descent"
   ]
  },
  {
   "cell_type": "code",
   "execution_count": 45,
   "id": "92787121",
   "metadata": {},
   "outputs": [],
   "source": [
    "# Define Optimizer\n",
    "opt=torch.optim.SGD(model.parameters(),lr=1e-5)"
   ]
  },
  {
   "cell_type": "markdown",
   "id": "df9f9cda",
   "metadata": {},
   "source": [
    "Utility Function (fit)"
   ]
  },
  {
   "cell_type": "code",
   "execution_count": 49,
   "id": "8de71ba2",
   "metadata": {},
   "outputs": [],
   "source": [
    "def fit(model, loss_fn, num_epochs, opt, train_dl):\n",
    "    # Repeat\n",
    "    for epoch in range(num_epochs):\n",
    "        # train\n",
    "        for x, y, in train_dl:\n",
    "            #1. Generate Predictions\n",
    "            preds=model(x)\n",
    "            #2. Loss Calculation\n",
    "            loss=loss_fn(preds,y)\n",
    "            #3. Gradient Computation\n",
    "            loss.backward()\n",
    "            #4. Update Parameters\n",
    "            opt.step()\n",
    "            #5. Reset Gradient\n",
    "            opt.zero_grad()\n",
    "            \n",
    "        # Print\n",
    "        if (epoch+1)%10==0:\n",
    "            print('Epoch [{}/{}],Loss: {:4f}'.format(epoch+1,num_epochs,loss.item()))\n",
    "            "
   ]
  },
  {
   "cell_type": "code",
   "execution_count": 50,
   "id": "076ff8ce",
   "metadata": {},
   "outputs": [
    {
     "name": "stdout",
     "output_type": "stream",
     "text": [
      "Epoch [10/100],Loss: 736.886963\n",
      "Epoch [20/100],Loss: 390.318054\n",
      "Epoch [30/100],Loss: 164.804092\n",
      "Epoch [40/100],Loss: 140.442657\n",
      "Epoch [50/100],Loss: 192.882950\n",
      "Epoch [60/100],Loss: 116.044601\n",
      "Epoch [70/100],Loss: 133.888397\n",
      "Epoch [80/100],Loss: 52.185112\n",
      "Epoch [90/100],Loss: 57.694916\n",
      "Epoch [100/100],Loss: 45.344902\n"
     ]
    }
   ],
   "source": [
    "fit(model,loss_fn,100,opt,train_dl)"
   ]
  },
  {
   "cell_type": "code",
   "execution_count": 51,
   "id": "197446d1",
   "metadata": {},
   "outputs": [
    {
     "data": {
      "text/plain": [
       "tensor([[ 58.4753,  71.7785],\n",
       "        [ 79.1484,  97.9802],\n",
       "        [122.3125, 136.5550],\n",
       "        [ 29.5569,  45.2475],\n",
       "        [ 91.6856, 109.6785],\n",
       "        [ 57.3533,  70.8009],\n",
       "        [ 78.3874,  97.5293],\n",
       "        [122.3245, 136.9021],\n",
       "        [ 30.6788,  46.2251],\n",
       "        [ 92.0465, 110.2052],\n",
       "        [ 57.7143,  71.3276],\n",
       "        [ 78.0264,  97.0026],\n",
       "        [123.0735, 137.0058],\n",
       "        [ 29.1959,  44.7209],\n",
       "        [ 92.8075, 110.6561]], grad_fn=<AddmmBackward0>)"
      ]
     },
     "execution_count": 51,
     "metadata": {},
     "output_type": "execute_result"
    }
   ],
   "source": [
    "preds=model(inputs)\n",
    "preds"
   ]
  },
  {
   "cell_type": "code",
   "execution_count": 52,
   "id": "b3adbf04",
   "metadata": {},
   "outputs": [
    {
     "data": {
      "text/plain": [
       "tensor([[ 56.,  70.],\n",
       "        [ 81., 101.],\n",
       "        [119., 133.],\n",
       "        [ 22.,  37.],\n",
       "        [103., 119.],\n",
       "        [ 57.,  69.],\n",
       "        [ 80., 102.],\n",
       "        [118., 132.],\n",
       "        [ 21.,  38.],\n",
       "        [104., 118.],\n",
       "        [ 57.,  69.],\n",
       "        [ 82., 100.],\n",
       "        [118., 134.],\n",
       "        [ 20.,  38.],\n",
       "        [102., 120.]])"
      ]
     },
     "execution_count": 52,
     "metadata": {},
     "output_type": "execute_result"
    }
   ],
   "source": [
    "targets"
   ]
  },
  {
   "cell_type": "code",
   "execution_count": 53,
   "id": "1dde8219",
   "metadata": {},
   "outputs": [
    {
     "data": {
      "text/plain": [
       "tensor([[54.5228, 68.4848]], grad_fn=<AddmmBackward0>)"
      ]
     },
     "execution_count": 53,
     "metadata": {},
     "output_type": "execute_result"
    }
   ],
   "source": [
    "model(torch.tensor([[75,63,44.]]))"
   ]
  },
  {
   "cell_type": "code",
   "execution_count": null,
   "id": "848ab658",
   "metadata": {},
   "outputs": [],
   "source": []
  }
 ],
 "metadata": {
  "kernelspec": {
   "display_name": "Python 3 (ipykernel)",
   "language": "python",
   "name": "python3"
  },
  "language_info": {
   "codemirror_mode": {
    "name": "ipython",
    "version": 3
   },
   "file_extension": ".py",
   "mimetype": "text/x-python",
   "name": "python",
   "nbconvert_exporter": "python",
   "pygments_lexer": "ipython3",
   "version": "3.9.13"
  }
 },
 "nbformat": 4,
 "nbformat_minor": 5
}
