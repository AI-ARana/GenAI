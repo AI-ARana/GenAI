{
 "cells": [
  {
   "cell_type": "code",
   "execution_count": 1,
   "id": "43348154",
   "metadata": {},
   "outputs": [
    {
     "ename": "FileNotFoundError",
     "evalue": "[Errno 2] No such file or directory: 'README.md'",
     "output_type": "error",
     "traceback": [
      "\u001b[1;31m---------------------------------------------------------------------------\u001b[0m",
      "\u001b[1;31mFileNotFoundError\u001b[0m                         Traceback (most recent call last)",
      "Input \u001b[1;32mIn [1]\u001b[0m, in \u001b[0;36m<cell line: 8>\u001b[1;34m()\u001b[0m\n\u001b[0;32m      4\u001b[0m \u001b[38;5;124;03m\"\"\"The setup script.\"\"\"\u001b[39;00m\n\u001b[0;32m      6\u001b[0m \u001b[38;5;28;01mfrom\u001b[39;00m \u001b[38;5;21;01msetuptools\u001b[39;00m \u001b[38;5;28;01mimport\u001b[39;00m setup, find_packages\n\u001b[1;32m----> 8\u001b[0m \u001b[38;5;28;01mwith\u001b[39;00m \u001b[38;5;28;43mopen\u001b[39;49m\u001b[43m(\u001b[49m\u001b[38;5;124;43m\"\u001b[39;49m\u001b[38;5;124;43mREADME.md\u001b[39;49m\u001b[38;5;124;43m\"\u001b[39;49m\u001b[43m)\u001b[49m \u001b[38;5;28;01mas\u001b[39;00m readme_file:\n\u001b[0;32m      9\u001b[0m     readme \u001b[38;5;241m=\u001b[39m readme_file\u001b[38;5;241m.\u001b[39mread()\n\u001b[0;32m     11\u001b[0m \u001b[38;5;28;01mwith\u001b[39;00m \u001b[38;5;28mopen\u001b[39m(\u001b[38;5;124m\"\u001b[39m\u001b[38;5;124mHISTORY.md\u001b[39m\u001b[38;5;124m\"\u001b[39m) \u001b[38;5;28;01mas\u001b[39;00m history_file:\n",
      "\u001b[1;31mFileNotFoundError\u001b[0m: [Errno 2] No such file or directory: 'README.md'"
     ]
    }
   ],
   "source": [
    "#!/usr/bin/env python\n",
    "# -*- coding: utf-8 -*-\n",
    "\n",
    "\"\"\"The setup script.\"\"\"\n",
    "\n",
    "from setuptools import setup, find_packages\n",
    "\n",
    "with open(\"README.md\") as readme_file:\n",
    "    readme = readme_file.read()\n",
    "\n",
    "with open(\"HISTORY.md\") as history_file:\n",
    "    history = history_file.read()\n",
    "\n",
    "requirements = [requirement for requirement in open('requirements.txt')]\n",
    "\n",
    "setup_requirements = [\n",
    "    \"pytest-runner\",\n",
    "]\n",
    "\n",
    "test_requirements = [\n",
    "    \"pytest>=3\",\n",
    "]\n",
    "\n",
    "setup(\n",
    "    author=\"Shankar Rao Pandala\",\n",
    "    author_email=\"shankar.pandala@live.com\",\n",
    "    python_requires=\">=3.6\",\n",
    "    classifiers=[\n",
    "        \"Development Status :: 2 - Pre-Alpha\",\n",
    "        \"Intended Audience :: Developers\",\n",
    "        \"License :: OSI Approved :: MIT License\",\n",
    "        \"Natural Language :: English\",\n",
    "        'Programming Language :: Python :: 3',\n",
    "        'Programming Language :: Python :: 3.5',\n",
    "        'Programming Language :: Python :: 3.6',\n",
    "        'Programming Language :: Python :: 3.7',\n",
    "        'Programming Language :: Python :: 3.8',\n",
    "        \"Programming Language :: Python :: 3.9\",\n",
    "        \"Programming Language :: Python :: 3.10\",\n",
    "    ],\n",
    "    description=\"Lazy Predict help build a lot of basic models without much code and helps understand which models works better without any parameter tuning\",\n",
    "    long_description_content_type=\"text/markdown\",\n",
    "    entry_points={\"console_scripts\": [\"lazypredict=lazypredict.cli:main\",],},\n",
    "    install_requires=requirements,\n",
    "    license=\"MIT license\",\n",
    "    long_description=readme + \"\\n\\n\" + history,\n",
    "    include_package_data=True,\n",
    "    keywords=\"lazypredict\",\n",
    "    name=\"lazypredict\",\n",
    "    packages=find_packages(include=[\"lazypredict\", \"lazypredict.*\"]),\n",
    "    setup_requires=setup_requirements,\n",
    "    test_suite=\"tests\",\n",
    "    tests_require=test_requirements,\n",
    "    url=\"https://github.com/shankarpandala/lazypredict\",\n",
    "    version='0.2.12',\n",
    "    zip_safe=False,\n",
    ")"
   ]
  },
  {
   "cell_type": "code",
   "execution_count": null,
   "id": "5180766f",
   "metadata": {},
   "outputs": [],
   "source": []
  }
 ],
 "metadata": {
  "kernelspec": {
   "display_name": "Python 3 (ipykernel)",
   "language": "python",
   "name": "python3"
  },
  "language_info": {
   "codemirror_mode": {
    "name": "ipython",
    "version": 3
   },
   "file_extension": ".py",
   "mimetype": "text/x-python",
   "name": "python",
   "nbconvert_exporter": "python",
   "pygments_lexer": "ipython3",
   "version": "3.9.12"
  }
 },
 "nbformat": 4,
 "nbformat_minor": 5
}
