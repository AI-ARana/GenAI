{
 "cells": [
  {
   "cell_type": "code",
   "execution_count": 1,
   "id": "f4cb1399",
   "metadata": {},
   "outputs": [
    {
     "name": "stdout",
     "output_type": "stream",
     "text": [
      "11.0\n"
     ]
    }
   ],
   "source": [
    "print(6 + 5 - 4 * 3 / 2 % 1)"
   ]
  },
  {
   "cell_type": "code",
   "execution_count": 5,
   "id": "3e39b70e",
   "metadata": {},
   "outputs": [
    {
     "name": "stdout",
     "output_type": "stream",
     "text": [
      "{'price': 50, 'quantity': 10, 'bags': 2}\n"
     ]
    }
   ],
   "source": [
    "class fruits:\n",
    "    def __init__(self, price):\n",
    "        self.price = price\n",
    "obj=fruits(50)\n",
    " \n",
    "obj.quantity=10\n",
    "obj.bags=2\n",
    " \n",
    "print(obj.__dict__)"
   ]
  },
  {
   "cell_type": "code",
   "execution_count": 6,
   "id": "f1092578",
   "metadata": {},
   "outputs": [
    {
     "name": "stdout",
     "output_type": "stream",
     "text": [
      "0 3 6 9 12 15 "
     ]
    }
   ],
   "source": [
    "x = 0\n",
    "while(True):\n",
    "   if x % 3 == 0:\n",
    "       print(x, end = \" \")\n",
    "   if(x > 15):\n",
    "       break;\n",
    "   x += 1"
   ]
  },
  {
   "cell_type": "code",
   "execution_count": 8,
   "id": "029eb09d",
   "metadata": {},
   "outputs": [
    {
     "name": "stdout",
     "output_type": "stream",
     "text": [
      "6\n",
      "7\n"
     ]
    }
   ],
   "source": [
    "class check:\n",
    "    def __init__(self, x, y, z):\n",
    "        self.a = x + y + z\n",
    " \n",
    "x = check(1,2,3)\n",
    "y = getattr(x, 'a')\n",
    "print(y)\n",
    "setattr(x, 'a', y+1)\n",
    "print(x.a)"
   ]
  },
  {
   "cell_type": "code",
   "execution_count": null,
   "id": "9cc827f0",
   "metadata": {},
   "outputs": [],
   "source": []
  }
 ],
 "metadata": {
  "kernelspec": {
   "display_name": "Python 3 (ipykernel)",
   "language": "python",
   "name": "python3"
  },
  "language_info": {
   "codemirror_mode": {
    "name": "ipython",
    "version": 3
   },
   "file_extension": ".py",
   "mimetype": "text/x-python",
   "name": "python",
   "nbconvert_exporter": "python",
   "pygments_lexer": "ipython3",
   "version": "3.9.12"
  }
 },
 "nbformat": 4,
 "nbformat_minor": 5
}
