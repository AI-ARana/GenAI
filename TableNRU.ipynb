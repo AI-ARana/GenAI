{
 "cells": [
  {
   "cell_type": "code",
   "execution_count": 1,
   "id": "1b274c0a",
   "metadata": {},
   "outputs": [],
   "source": [
    "import pandas as pd\n",
    "import seaborn as sns\n",
    "import matplotlib.pyplot as plt\n",
    "get_ipython().run_line_magic('matplotlib', 'inline')"
   ]
  },
  {
   "cell_type": "code",
   "execution_count": 2,
   "id": "19f685dd",
   "metadata": {},
   "outputs": [
    {
     "data": {
      "text/html": [
       "<div>\n",
       "<style scoped>\n",
       "    .dataframe tbody tr th:only-of-type {\n",
       "        vertical-align: middle;\n",
       "    }\n",
       "\n",
       "    .dataframe tbody tr th {\n",
       "        vertical-align: top;\n",
       "    }\n",
       "\n",
       "    .dataframe thead th {\n",
       "        text-align: right;\n",
       "    }\n",
       "</style>\n",
       "<table border=\"1\" class=\"dataframe\">\n",
       "  <thead>\n",
       "    <tr style=\"text-align: right;\">\n",
       "      <th></th>\n",
       "      <th>Concentrations</th>\n",
       "      <th>Control</th>\n",
       "      <th>1 μM</th>\n",
       "      <th>10 μM</th>\n",
       "      <th>50 μM</th>\n",
       "      <th>100 μM</th>\n",
       "      <th>250 μM</th>\n",
       "      <th>500 μM</th>\n",
       "      <th>1000 μM</th>\n",
       "    </tr>\n",
       "  </thead>\n",
       "  <tbody>\n",
       "    <tr>\n",
       "      <th>0</th>\n",
       "      <td>A549 Cells (A)</td>\n",
       "      <td>100</td>\n",
       "      <td>94.9051</td>\n",
       "      <td>90.3097</td>\n",
       "      <td>64.7353</td>\n",
       "      <td>56.7433</td>\n",
       "      <td>46.5534</td>\n",
       "      <td>40.7592</td>\n",
       "      <td>15.984</td>\n",
       "    </tr>\n",
       "    <tr>\n",
       "      <th>1</th>\n",
       "      <td>A549 Cells (B)</td>\n",
       "      <td>100</td>\n",
       "      <td>99.5502</td>\n",
       "      <td>98.0510</td>\n",
       "      <td>94.6027</td>\n",
       "      <td>91.3043</td>\n",
       "      <td>82.9085</td>\n",
       "      <td>68.0660</td>\n",
       "      <td>56.072</td>\n",
       "    </tr>\n",
       "  </tbody>\n",
       "</table>\n",
       "</div>"
      ],
      "text/plain": [
       "   Concentrations  Control     1 μM    10 μM    50 μM   100 μM   250 μM  \\\n",
       "0  A549 Cells (A)      100  94.9051  90.3097  64.7353  56.7433  46.5534   \n",
       "1  A549 Cells (B)      100  99.5502  98.0510  94.6027  91.3043  82.9085   \n",
       "\n",
       "    500 μM  1000 μM  \n",
       "0  40.7592   15.984  \n",
       "1  68.0660   56.072  "
      ]
     },
     "execution_count": 2,
     "metadata": {},
     "output_type": "execute_result"
    }
   ],
   "source": [
    "t=pd.read_csv('D:\\Data_h\\Table NRU.csv')\n",
    "\n",
    "t"
   ]
  },
  {
   "cell_type": "code",
   "execution_count": null,
   "id": "c5b478c3",
   "metadata": {},
   "outputs": [],
   "source": [
    "fig, ax = plt.subplots(figsize=(6, 6))\n",
    "sns.heatmap(t, cmap=\"YlGnBu\", annot=True,  cbar=True,annot_kws={\"size\": 10, 'family':'Times New Roman'})\n",
    "\n",
    "cbar = ax.collections[0].colorbar\n",
    "plt.setp(cbar.ax.get_yticklabels(), fontsize=10, fontfamily='Times New Roman')\n",
    "seaborn.heatmap(t, *, vmin=None, vmax=None, cmap='plasma', center=None, robust=False, annot=None, fmt='.2g', annot_kws=None, linewidths=0, linecolor='white', cbar=True, cbar_kws=None, cbar_ax=None, square=False, xticklabels='auto', yticklabels='auto', mask=None, ax=None, **kwargs)"
   ]
  }
 ],
 "metadata": {
  "kernelspec": {
   "display_name": "Python 3 (ipykernel)",
   "language": "python",
   "name": "python3"
  },
  "language_info": {
   "codemirror_mode": {
    "name": "ipython",
    "version": 3
   },
   "file_extension": ".py",
   "mimetype": "text/x-python",
   "name": "python",
   "nbconvert_exporter": "python",
   "pygments_lexer": "ipython3",
   "version": "3.9.13"
  }
 },
 "nbformat": 4,
 "nbformat_minor": 5
}
