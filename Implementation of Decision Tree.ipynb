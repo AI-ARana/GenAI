{
 "cells": [
  {
   "cell_type": "code",
   "execution_count": 5,
   "id": "b6b1a13f",
   "metadata": {
    "scrolled": true
   },
   "outputs": [
    {
     "ename": "ImportError",
     "evalue": "cannot import name 'make_classification' from 'sklearn.datasets' (unknown location)",
     "output_type": "error",
     "traceback": [
      "\u001b[1;31m---------------------------------------------------------------------------\u001b[0m",
      "\u001b[1;31mImportError\u001b[0m                               Traceback (most recent call last)",
      "Input \u001b[1;32mIn [5]\u001b[0m, in \u001b[0;36m<cell line: 1>\u001b[1;34m()\u001b[0m\n\u001b[1;32m----> 1\u001b[0m \u001b[38;5;28;01mfrom\u001b[39;00m \u001b[38;5;21;01msklearn\u001b[39;00m\u001b[38;5;21;01m.\u001b[39;00m\u001b[38;5;21;01mdatasets\u001b[39;00m \u001b[38;5;28;01mimport\u001b[39;00m make_classification\n\u001b[0;32m      2\u001b[0m \u001b[38;5;28;01mfrom\u001b[39;00m \u001b[38;5;21;01msklearn\u001b[39;00m \u001b[38;5;28;01mimport\u001b[39;00m tree\n\u001b[0;32m      3\u001b[0m \u001b[38;5;28;01mfrom\u001b[39;00m \u001b[38;5;21;01msklearn\u001b[39;00m\u001b[38;5;21;01m.\u001b[39;00m\u001b[38;5;21;01mmodel_selection\u001b[39;00m \u001b[38;5;28;01mimport\u001b[39;00m train_test_split\n",
      "\u001b[1;31mImportError\u001b[0m: cannot import name 'make_classification' from 'sklearn.datasets' (unknown location)"
     ]
    }
   ],
   "source": [
    "from sklearn.datasets import make_classification\n",
    "from sklearn import tree\n",
    "from sklearn.model_selection import train_test_split"
   ]
  },
  {
   "cell_type": "code",
   "execution_count": 4,
   "id": "2d03c942",
   "metadata": {},
   "outputs": [
    {
     "ename": "NameError",
     "evalue": "name 'make_classification' is not defined",
     "output_type": "error",
     "traceback": [
      "\u001b[1;31m---------------------------------------------------------------------------\u001b[0m",
      "\u001b[1;31mNameError\u001b[0m                                 Traceback (most recent call last)",
      "Input \u001b[1;32mIn [4]\u001b[0m, in \u001b[0;36m<cell line: 1>\u001b[1;34m()\u001b[0m\n\u001b[1;32m----> 1\u001b[0m X, t \u001b[38;5;241m=\u001b[39m\u001b[43mmake_classification\u001b[49m (\u001b[38;5;241m100\u001b[39m,\u001b[38;5;241m5\u001b[39m,n_classes\u001b[38;5;241m=\u001b[39m\u001b[38;5;241m2\u001b[39m, shuffle\u001b[38;5;241m=\u001b[39m\u001b[38;5;28;01mTrue\u001b[39;00m,random_state\u001b[38;5;241m=\u001b[39m\u001b[38;5;241m10\u001b[39m)\n\u001b[0;32m      2\u001b[0m X_train, X_text, t_train,t_text\u001b[38;5;241m=\u001b[39mtarin_test_split(\n\u001b[0;32m      3\u001b[0m     X,t,test_size\u001b[38;5;241m=\u001b[39m\u001b[38;5;241m0.3\u001b[39m,shuffle\u001b[38;5;241m=\u001b[39m\u001b[38;5;28;01mTrue\u001b[39;00m,random_state\u001b[38;5;241m=\u001b[39m\u001b[38;5;241m1\u001b[39m)\n\u001b[0;32m      4\u001b[0m model\u001b[38;5;241m=\u001b[39mtree\u001b[38;5;241m.\u001b[39mDecisionTreeClassfier()\n",
      "\u001b[1;31mNameError\u001b[0m: name 'make_classification' is not defined"
     ]
    }
   ],
   "source": [
    "X, t =make_classification (100,5,n_classes=2, shuffle=True,random_state=10)\n",
    "X_train, X_text, t_train,t_text=tarin_test_split(\n",
    "    X,t,test_size=0.3,shuffle=True,random_state=1)\n",
    "model=tree.DecisionTreeClassfier()\n",
    "model=model.fit(X_train,t_train)\n",
    "\n"
   ]
  },
  {
   "cell_type": "code",
   "execution_count": 3,
   "id": "6f1c9213",
   "metadata": {},
   "outputs": [
    {
     "ename": "SyntaxError",
     "evalue": "unmatched ')' (1216159686.py, line 2)",
     "output_type": "error",
     "traceback": [
      "\u001b[1;36m  Input \u001b[1;32mIn [3]\u001b[1;36m\u001b[0m\n\u001b[1;33m    print)predicted_value)\u001b[0m\n\u001b[1;37m         ^\u001b[0m\n\u001b[1;31mSyntaxError\u001b[0m\u001b[1;31m:\u001b[0m unmatched ')'\n"
     ]
    }
   ],
   "source": [
    "predicted_value=model.predict(X_test)\n",
    "print)predicted_value)\n"
   ]
  },
  {
   "cell_type": "code",
   "execution_count": null,
   "id": "6c11e3f8",
   "metadata": {},
   "outputs": [],
   "source": [
    "tree.plot_tree(model)\n",
    "\n",
    "zeroes=0\n",
    "ones=0"
   ]
  },
  {
   "cell_type": "code",
   "execution_count": null,
   "id": "c42a3f25",
   "metadata": {},
   "outputs": [],
   "source": [
    "for i in range(0,len(t_train)):\n",
    "    if t_train[i]==0:\n",
    "        zeroes +=1\n",
    "    else:\n",
    "        ones +=1\n",
    "print(zeroes)\n",
    "print(ones)\n"
   ]
  },
  {
   "cell_type": "code",
   "execution_count": null,
   "id": "14b52fae",
   "metadata": {},
   "outputs": [],
   "source": [
    "val=1-((zeroes/70)*(zeroes/70)+(ones/70)*(ones/70))\n",
    "print(\"Gini :\",val)"
   ]
  },
  {
   "cell_type": "code",
   "execution_count": null,
   "id": "6b7faa13",
   "metadata": {},
   "outputs": [],
   "source": [
    "match=0\n",
    "unmatch=0\n",
    "\n",
    "for i in range(30):\n",
    "    if predicted_value[i]==t_test[i]:\n",
    "        match +=1\n",
    "    else:\n",
    "        unmatch +=1\n",
    "accuracy=match/30\n",
    "print(\"Accuracy is :\", accuracy)"
   ]
  }
 ],
 "metadata": {
  "kernelspec": {
   "display_name": "Python 3 (ipykernel)",
   "language": "python",
   "name": "python3"
  },
  "language_info": {
   "codemirror_mode": {
    "name": "ipython",
    "version": 3
   },
   "file_extension": ".py",
   "mimetype": "text/x-python",
   "name": "python",
   "nbconvert_exporter": "python",
   "pygments_lexer": "ipython3",
   "version": "3.9.12"
  }
 },
 "nbformat": 4,
 "nbformat_minor": 5
}
