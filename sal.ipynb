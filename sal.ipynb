{
 "cells": [
  {
   "cell_type": "code",
   "execution_count": 4,
   "id": "972ef806",
   "metadata": {},
   "outputs": [
    {
     "name": "stdout",
     "output_type": "stream",
     "text": [
      " Enter salary: 20000\n",
      "Enter Designation: A Professor\n"
     ]
    }
   ],
   "source": [
    "basic=float(input(\" Enter salary: \"))\n",
    "desgn= input (\"Enter Designation: \")\n"
   ]
  },
  {
   "cell_type": "code",
   "execution_count": 7,
   "id": "4cdd4bee",
   "metadata": {},
   "outputs": [
    {
     "name": "stdout",
     "output_type": "stream",
     "text": [
      "22400.0\n",
      "22400.0\n"
     ]
    }
   ],
   "source": [
    "if desgn==\"Professor\":\n",
    "    ta=(7*basic)/100\n",
    "    da=(10*basic)/100\n",
    "    netpay=float(basic+ta+da)\n",
    "print(netpay)\n",
    "if desgn==\"A Professor\":\n",
    "    ta=(5*basic)/100\n",
    "    da=(7*basic)/100\n",
    "    netpay=float(basic+ta+da)\n",
    "print(netpay)"
   ]
  },
  {
   "cell_type": "code",
   "execution_count": null,
   "id": "41d273cc",
   "metadata": {},
   "outputs": [],
   "source": []
  },
  {
   "cell_type": "code",
   "execution_count": null,
   "id": "746d19c0",
   "metadata": {},
   "outputs": [],
   "source": []
  }
 ],
 "metadata": {
  "kernelspec": {
   "display_name": "Python 3 (ipykernel)",
   "language": "python",
   "name": "python3"
  },
  "language_info": {
   "codemirror_mode": {
    "name": "ipython",
    "version": 3
   },
   "file_extension": ".py",
   "mimetype": "text/x-python",
   "name": "python",
   "nbconvert_exporter": "python",
   "pygments_lexer": "ipython3",
   "version": "3.9.13"
  }
 },
 "nbformat": 4,
 "nbformat_minor": 5
}
