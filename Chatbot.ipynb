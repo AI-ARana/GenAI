{
 "cells": [
  {
   "cell_type": "code",
   "execution_count": null,
   "id": "56414d42",
   "metadata": {
    "scrolled": true
   },
   "outputs": [],
   "source": [
    "import json\n",
    "import string\n",
    "import random\n",
    "\n",
    "import nltk\n",
    "import numpy as np\n",
    "from nltk.stem import WordNetLemmatizer\n",
    "\n",
    "import tensorflow as tf\n",
    "from tensorflow.keras import Sequential\n",
    "from tensorflow.keras.layers import Dense, Dropout\n",
    "\n",
    "nltk.download()"
   ]
  },
  {
   "cell_type": "code",
   "execution_count": null,
   "id": "f8459ebb",
   "metadata": {},
   "outputs": [],
   "source": [
    "# initializing lemmatizer to get stem of words \n",
    "\n",
    "lemmatizer =WordNetLemmatizer()\n",
    "\n",
    "# Create List\n",
    "\n",
    "words=[]\n",
    "classes=[]\n",
    "doc_X=[]\n",
    "doc_Y=[]\n",
    "\n",
    "for intent in data[\"intents\"]:\n",
    "    for pattern in intent[\"patterns\"]:\n",
    "        tokens =nltk.word_tokenize(pattern)\n",
    "        words.extend(tokens)\n",
    "        doc_X.appends(pattern)\n",
    "        doc_Y.append(intent[\"tag\"])\n",
    "        \n",
    "        \n",
    "    if intent[\"tag\"] not in classes:\n",
    "        classes.append(intent[\"tags\"])\n",
    "        \n",
    "        \n",
    "words=[lemmatizer.lemmatize(word.lower()) for word in words if word not in string.punctuation]\n",
    "\n",
    "words=sorted(set(words))\n",
    "classes=sorted(set(classes))"
   ]
  },
  {
   "cell_type": "code",
   "execution_count": null,
   "id": "2b586eef",
   "metadata": {},
   "outputs": [],
   "source": [
    "def clean(text):\n",
    "    tokens=nltk.word_tokenize(text)\n",
    "    tokens=[lemmatizer.lemmatize(word) for word in tokens]\n",
    "    return tokens"
   ]
  },
  {
   "cell_type": "code",
   "execution_count": null,
   "id": "45cc33a6",
   "metadata": {},
   "outputs": [],
   "source": [
    "def bow(text, vocabulary):\n",
    "    tokens=clean(text)\n",
    "    bow1=[0]*len(vocab)\n",
    "    for w in tokens:\n",
    "        for idx, word in enumerate(vocab):\n",
    "            if word==w:\n",
    "                bow1[idx]=1\n",
    "    retuen np.array(bow1)"
   ]
  }
 ],
 "metadata": {
  "kernelspec": {
   "display_name": "Python 3 (ipykernel)",
   "language": "python",
   "name": "python3"
  },
  "language_info": {
   "codemirror_mode": {
    "name": "ipython",
    "version": 3
   },
   "file_extension": ".py",
   "mimetype": "text/x-python",
   "name": "python",
   "nbconvert_exporter": "python",
   "pygments_lexer": "ipython3",
   "version": "3.9.13"
  }
 },
 "nbformat": 4,
 "nbformat_minor": 5
}
