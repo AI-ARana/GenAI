{
 "cells": [
  {
   "cell_type": "code",
   "execution_count": 1,
   "id": "dd4ce55d",
   "metadata": {},
   "outputs": [
    {
     "name": "stdout",
     "output_type": "stream",
     "text": [
      "6\n"
     ]
    }
   ],
   "source": [
    "print(len(\"Python\"))"
   ]
  },
  {
   "cell_type": "code",
   "execution_count": 4,
   "id": "0a625740",
   "metadata": {},
   "outputs": [
    {
     "name": "stdout",
     "output_type": "stream",
     "text": [
      "3\n"
     ]
    }
   ],
   "source": [
    "print(len(\"Ram\"))"
   ]
  },
  {
   "cell_type": "code",
   "execution_count": 7,
   "id": "eaaa3588",
   "metadata": {},
   "outputs": [
    {
     "name": "stdout",
     "output_type": "stream",
     "text": [
      "27\n",
      "<class 'int'>\n",
      "ShooliniUniversity\n",
      "<class 'str'>\n",
      "17.5\n"
     ]
    }
   ],
   "source": [
    "x=12\n",
    "y=15\n",
    "z=2.5\n",
    "s1=\"Shoolini\"\n",
    "s2=\"University\"\n",
    "\n",
    "print(x+y)\n",
    "print(type(x+y))\n",
    "\n",
    "print(s1+s2)\n",
    "print(type(s1+s2))\n",
    "\n",
    "print(y+z)"
   ]
  },
  {
   "cell_type": "code",
   "execution_count": 17,
   "id": "6d342b10",
   "metadata": {},
   "outputs": [
    {
     "name": "stdout",
     "output_type": "stream",
     "text": [
      " I am a student. My name is Amit and age is 25\n",
      " I am a Faculty. My name is Anurag and age is 35\n"
     ]
    }
   ],
   "source": [
    "class student:\n",
    "    def __init__(self, name, age):\n",
    "        self.name=name\n",
    "        self.age=age\n",
    "    def intro(self):\n",
    "        print(f\" I am a student. My name is {self.name } and age is {self.age}\")\n",
    "    \n",
    "class faculty:\n",
    "    def __init__(self,name,age):\n",
    "        self.name=name\n",
    "        self.age=age\n",
    "    \n",
    "    def intro(self):\n",
    "        print(f\" I am a Faculty. My name is {self.name } and age is {self.age}\")\n",
    "      \n",
    "s=student(\"Amit\",25)\n",
    "f=faculty(\"Anurag\",35)\n",
    "for i in (s,f):\n",
    "        i.intro()\n",
    "\n"
   ]
  },
  {
   "cell_type": "code",
   "execution_count": null,
   "id": "a02c64f5",
   "metadata": {},
   "outputs": [],
   "source": []
  }
 ],
 "metadata": {
  "kernelspec": {
   "display_name": "Python 3 (ipykernel)",
   "language": "python",
   "name": "python3"
  },
  "language_info": {
   "codemirror_mode": {
    "name": "ipython",
    "version": 3
   },
   "file_extension": ".py",
   "mimetype": "text/x-python",
   "name": "python",
   "nbconvert_exporter": "python",
   "pygments_lexer": "ipython3",
   "version": "3.9.13"
  }
 },
 "nbformat": 4,
 "nbformat_minor": 5
}
