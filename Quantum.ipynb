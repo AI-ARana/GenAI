{
 "cells": [
  {
   "cell_type": "code",
   "execution_count": 1,
   "id": "62b2df1f",
   "metadata": {},
   "outputs": [
    {
     "name": "stdout",
     "output_type": "stream",
     "text": [
      "Collecting pennylane\n",
      "  Downloading PennyLane-0.29.1-py3-none-any.whl (1.3 MB)\n",
      "     ---------------------------------------- 1.3/1.3 MB 4.6 MB/s eta 0:00:00\n",
      "Collecting numpy<1.24\n",
      "  Using cached numpy-1.23.5-cp39-cp39-win_amd64.whl (14.7 MB)\n",
      "Collecting autograd\n",
      "  Downloading autograd-1.5-py3-none-any.whl (48 kB)\n",
      "     ---------------------------------------- 48.9/48.9 kB 2.6 MB/s eta 0:00:00\n",
      "Collecting pennylane-lightning>=0.28\n",
      "  Downloading PennyLane_Lightning-0.29.0-cp39-cp39-win_amd64.whl (4.6 MB)\n",
      "     ---------------------------------------- 4.6/4.6 MB 3.7 MB/s eta 0:00:00\n",
      "Collecting retworkx\n",
      "  Downloading retworkx-0.12.1-py3-none-any.whl (10 kB)\n",
      "Requirement already satisfied: scipy in f:\\anaconda\\lib\\site-packages (from pennylane) (1.9.1)\n",
      "Requirement already satisfied: cachetools in f:\\anaconda\\lib\\site-packages (from pennylane) (5.3.0)\n",
      "Collecting semantic-version>=2.7\n",
      "  Downloading semantic_version-2.10.0-py2.py3-none-any.whl (15 kB)\n",
      "Collecting autoray>=0.3.1\n",
      "  Downloading autoray-0.6.3-py3-none-any.whl (48 kB)\n",
      "     ---------------------------------------- 48.3/48.3 kB 2.5 MB/s eta 0:00:00\n",
      "Requirement already satisfied: appdirs in f:\\anaconda\\lib\\site-packages (from pennylane) (1.4.4)\n",
      "Requirement already satisfied: toml in f:\\anaconda\\lib\\site-packages (from pennylane) (0.10.2)\n",
      "Requirement already satisfied: requests in f:\\anaconda\\lib\\site-packages (from pennylane) (2.28.1)\n",
      "Requirement already satisfied: networkx in f:\\anaconda\\lib\\site-packages (from pennylane) (2.8.4)\n",
      "Requirement already satisfied: future>=0.15.2 in f:\\anaconda\\lib\\site-packages (from autograd->pennylane) (0.18.2)\n",
      "Requirement already satisfied: idna<4,>=2.5 in f:\\anaconda\\lib\\site-packages (from requests->pennylane) (3.3)\n",
      "Requirement already satisfied: charset-normalizer<3,>=2 in f:\\anaconda\\lib\\site-packages (from requests->pennylane) (2.0.4)\n",
      "Requirement already satisfied: urllib3<1.27,>=1.21.1 in f:\\anaconda\\lib\\site-packages (from requests->pennylane) (1.26.11)\n",
      "Requirement already satisfied: certifi>=2017.4.17 in f:\\anaconda\\lib\\site-packages (from requests->pennylane) (2022.9.14)\n",
      "Collecting rustworkx==0.12.1\n",
      "  Downloading rustworkx-0.12.1-cp39-cp39-win_amd64.whl (1.5 MB)\n",
      "     ---------------------------------------- 1.5/1.5 MB 2.5 MB/s eta 0:00:00\n",
      "Installing collected packages: semantic-version, numpy, autoray, rustworkx, autograd, retworkx, pennylane-lightning, pennylane\n",
      "  Attempting uninstall: numpy\n",
      "    Found existing installation: numpy 1.24.3\n",
      "    Uninstalling numpy-1.24.3:\n",
      "      Successfully uninstalled numpy-1.24.3\n"
     ]
    },
    {
     "name": "stderr",
     "output_type": "stream",
     "text": [
      "ERROR: Could not install packages due to an OSError: [WinError 5] Access is denied: 'F:\\\\Anaconda\\\\Lib\\\\site-packages\\\\~umpy\\\\.libs\\\\libopenblas64__v0.3.21-gcc_10_3_0.dll'\n",
      "Consider using the `--user` option or check the permissions.\n",
      "\n"
     ]
    }
   ],
   "source": [
    "!pip install pennylane"
   ]
  },
  {
   "cell_type": "code",
   "execution_count": 2,
   "id": "53920f22",
   "metadata": {},
   "outputs": [
    {
     "ename": "ModuleNotFoundError",
     "evalue": "No module named 'pennylane'",
     "output_type": "error",
     "traceback": [
      "\u001b[1;31m---------------------------------------------------------------------------\u001b[0m",
      "\u001b[1;31mModuleNotFoundError\u001b[0m                       Traceback (most recent call last)",
      "\u001b[1;32mC:\\conda_tmp\\ipykernel_7920\\3216444068.py\u001b[0m in \u001b[0;36m<module>\u001b[1;34m\u001b[0m\n\u001b[1;32m----> 1\u001b[1;33m \u001b[1;32mimport\u001b[0m \u001b[0mpennylane\u001b[0m \u001b[1;32mas\u001b[0m \u001b[0mqml\u001b[0m\u001b[1;33m\u001b[0m\u001b[1;33m\u001b[0m\u001b[0m\n\u001b[0m\u001b[0;32m      2\u001b[0m \u001b[1;32mfrom\u001b[0m \u001b[0mpennylane\u001b[0m \u001b[1;32mimport\u001b[0m \u001b[0mnumpy\u001b[0m \u001b[1;32mas\u001b[0m \u001b[0mnp\u001b[0m\u001b[1;33m\u001b[0m\u001b[1;33m\u001b[0m\u001b[0m\n",
      "\u001b[1;31mModuleNotFoundError\u001b[0m: No module named 'pennylane'"
     ]
    }
   ],
   "source": [
    "import pennylane as qml\n",
    "from pennylane import numpy as np"
   ]
  },
  {
   "cell_type": "code",
   "execution_count": null,
   "id": "c8cb74df",
   "metadata": {},
   "outputs": [],
   "source": [
    "dev1 =qml.device('default.qubit',wires=1)\n",
    "def circuit(phi1,phi1):\n",
    "    qml.RX(phi1, wires=0)\n",
    "    qml.RX(phi2, wires=0)\n",
    "    return qml.expval(qml.PauliZ(0))\n",
    "\n",
    "def cost(x,y):\n",
    "    return np.sin(np.abs(circuit(x,y)))-1\n",
    "\n",
    "dcost=qml.grad(cost, argnum=[0,1])"
   ]
  }
 ],
 "metadata": {
  "kernelspec": {
   "display_name": "Python 3 (ipykernel)",
   "language": "python",
   "name": "python3"
  },
  "language_info": {
   "codemirror_mode": {
    "name": "ipython",
    "version": 3
   },
   "file_extension": ".py",
   "mimetype": "text/x-python",
   "name": "python",
   "nbconvert_exporter": "python",
   "pygments_lexer": "ipython3",
   "version": "3.9.13"
  }
 },
 "nbformat": 4,
 "nbformat_minor": 5
}
