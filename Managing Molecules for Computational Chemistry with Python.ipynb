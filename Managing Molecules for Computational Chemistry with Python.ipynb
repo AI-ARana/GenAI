{
 "cells": [
  {
   "cell_type": "code",
   "execution_count": 1,
   "id": "75683080",
   "metadata": {},
   "outputs": [
    {
     "name": "stdout",
     "output_type": "stream",
     "text": [
      "Collecting Chem\n",
      "  Using cached chem-1.2.0-py3-none-any.whl (24 kB)\n",
      "Requirement already satisfied: nltk in c:\\users\\anurag rana\\anaconda3\\lib\\site-packages (from Chem) (3.7)\n",
      "Requirement already satisfied: pyparsing in c:\\users\\anurag rana\\anaconda3\\lib\\site-packages (from Chem) (3.0.9)\n",
      "Requirement already satisfied: six in c:\\users\\anurag rana\\anaconda3\\lib\\site-packages (from Chem) (1.16.0)\n",
      "Requirement already satisfied: markupsafe in c:\\users\\anurag rana\\anaconda3\\lib\\site-packages (from Chem) (2.0.1)\n",
      "Requirement already satisfied: numpy in c:\\users\\anurag rana\\anaconda3\\lib\\site-packages (from Chem) (1.21.5)\n",
      "Requirement already satisfied: scipy in c:\\users\\anurag rana\\anaconda3\\lib\\site-packages (from Chem) (1.9.1)\n",
      "Requirement already satisfied: regex>=2021.8.3 in c:\\users\\anurag rana\\anaconda3\\lib\\site-packages (from nltk->Chem) (2022.7.9)\n",
      "Requirement already satisfied: click in c:\\users\\anurag rana\\anaconda3\\lib\\site-packages (from nltk->Chem) (8.0.4)\n",
      "Requirement already satisfied: tqdm in c:\\users\\anurag rana\\anaconda3\\lib\\site-packages (from nltk->Chem) (4.64.1)\n",
      "Requirement already satisfied: joblib in c:\\users\\anurag rana\\anaconda3\\lib\\site-packages (from nltk->Chem) (1.1.0)\n",
      "Requirement already satisfied: colorama in c:\\users\\anurag rana\\anaconda3\\lib\\site-packages (from click->nltk->Chem) (0.4.5)\n",
      "Installing collected packages: Chem\n",
      "Successfully installed Chem-1.2.0\n"
     ]
    }
   ],
   "source": [
    "!pip install Chem\n"
   ]
  },
  {
   "cell_type": "code",
   "execution_count": 2,
   "id": "07da44b3",
   "metadata": {},
   "outputs": [
    {
     "name": "stdout",
     "output_type": "stream",
     "text": [
      "Collecting rdkit\n",
      "  Downloading rdkit-2022.9.3-cp39-cp39-win_amd64.whl (20.3 MB)\n",
      "     ---------------------------------------- 20.3/20.3 MB 4.1 MB/s eta 0:00:00\n",
      "Requirement already satisfied: numpy in c:\\users\\anurag rana\\anaconda3\\lib\\site-packages (from rdkit) (1.21.5)\n",
      "Requirement already satisfied: Pillow in c:\\users\\anurag rana\\anaconda3\\lib\\site-packages (from rdkit) (9.2.0)\n",
      "Installing collected packages: rdkit\n",
      "Successfully installed rdkit-2022.9.3\n"
     ]
    }
   ],
   "source": [
    "!pip install rdkit"
   ]
  },
  {
   "cell_type": "code",
   "execution_count": 3,
   "id": "d28ee20c",
   "metadata": {},
   "outputs": [
    {
     "name": "stderr",
     "output_type": "stream",
     "text": [
      "ERROR: Could not find a version that satisfies the requirement pymol (from versions: none)\n",
      "ERROR: No matching distribution found for pymol\n"
     ]
    }
   ],
   "source": [
    "!pip install pymol"
   ]
  },
  {
   "cell_type": "code",
   "execution_count": 4,
   "id": "90481508",
   "metadata": {},
   "outputs": [],
   "source": [
    "from rdkit import Chem\n",
    "from rdkit.Chem import AllChem\n",
    "from rdkit.Chem import Draw\n",
    "from rdkit.Chem.Draw import IPythonConsole\n",
    "# Convert SMILE into .mol\n",
    "my_mol=Chem.MolFromSmiles('CC(=O)OC1=CC=CC=C1C(=O)O')\n",
    "my_mol_with_H=Chem.AddHs(my_mol)\n",
    "AllChem.EmbedMolecule(my_mol_with_H)\n",
    "AllChem.MMFFOptimizeMolecule(my_mol_with_H)\n",
    "my_embedded_mol = Chem.RemoveHs(my_mol_with_H)\n",
    "#Save the molecule into an image\n",
    "Draw.MolToFile(my_mol,'molecule.png')\n",
    "#Save molecular rapresentation in mol files\n",
    "fout = Chem.SDWriter('./charged_test.mol')\n",
    "fout.write(my_embedded_mol)\n",
    "fout.close()"
   ]
  },
  {
   "cell_type": "code",
   "execution_count": null,
   "id": "ae502223",
   "metadata": {},
   "outputs": [],
   "source": []
  }
 ],
 "metadata": {
  "kernelspec": {
   "display_name": "Python 3 (ipykernel)",
   "language": "python",
   "name": "python3"
  },
  "language_info": {
   "codemirror_mode": {
    "name": "ipython",
    "version": 3
   },
   "file_extension": ".py",
   "mimetype": "text/x-python",
   "name": "python",
   "nbconvert_exporter": "python",
   "pygments_lexer": "ipython3",
   "version": "3.9.13"
  }
 },
 "nbformat": 4,
 "nbformat_minor": 5
}
